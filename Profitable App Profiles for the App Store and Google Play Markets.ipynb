{
 "cells": [
  {
   "cell_type": "markdown",
   "metadata": {},
   "source": [
    "On this project we're working as data analysts for a fictional company that builds Android and iOS mobile apps. We make our apps available on Google Play and in the App Store. \n",
    "\n",
    "We only build apps that are free to download and install, and our main source of revenue consists of in-app ads. This means that the number of users of our apps determines our revenue for any given app — the more users who see and engage with the ads, the better. \n",
    "\n",
    "Our goal for this project is to analyze data to help our developers understand what type of apps are likely to attract more users.\n"
   ]
  },
  {
   "cell_type": "code",
   "execution_count": 1,
   "metadata": {},
   "outputs": [],
   "source": [
    "from csv import reader\n",
    "opened_file = open('googleplaystore.csv')\n",
    "read_file = reader(opened_file)\n",
    "android = list(read_file)\n",
    "android_header = android[0]\n",
    "android = android[1:]\n",
    "\n",
    "opened_file = open('AppleStore.csv')\n",
    "read_file = reader(opened_file)\n",
    "iOS = list(read_file)\n",
    "iOS_header = iOS[0]\n",
    "iOS = iOS[1:]"
   ]
  },
  {
   "cell_type": "markdown",
   "metadata": {},
   "source": [
    "The first thing we need to do is to open both datasets, taken [from](https://www.kaggle.com/datasets/lava18/google-play-store-apps)[here](https://www.kaggle.com/datasets/ramamet4/app-store-apple-data-set-10k-apps), and create variables for both the main dataset which contains all the main information and another one just for the headers. Why? Because with just one single *print()* we can easily identify which column or row we need to extract the data from."
   ]
  },
  {
   "cell_type": "code",
   "execution_count": 2,
   "metadata": {},
   "outputs": [],
   "source": [
    "def explore_dataset(dataset, start, end, rows_and_columns=False):\n",
    "    dataset_slice = dataset[start:end]\n",
    "    for row in dataset_slice:\n",
    "        print(row)\n",
    "        print('\\n')\n",
    "    if rows_and_columns:\n",
    "        print('Number of rows:', len(dataset))\n",
    "        print('Number of columns', len(dataset[0]))"
   ]
  },
  {
   "cell_type": "markdown",
   "metadata": {},
   "source": [
    "Then, we've created a new dataset named *explore_dataset* which contains *dataset*, a list of lists, the *start* and the *end* of the data, and a boolean entitled *rows_and_columns*. To establish the limits of the dataset, we have the variable *dataset_slice*, which marks the beginning and the end of it. Then looped the *rows* in that variable, and we've added an IF conditional on *rows_and_columns* that will print the number of rows and columns that each dataset has. Its length, in other words. "
   ]
  },
  {
   "cell_type": "code",
   "execution_count": 3,
   "metadata": {},
   "outputs": [
    {
     "name": "stdout",
     "output_type": "stream",
     "text": [
      "['App', 'Category', 'Rating', 'Reviews', 'Size', 'Installs', 'Type', 'Price', 'Content Rating', 'Genres', 'Last Updated', 'Current Ver', 'Android Ver']\n",
      "\n",
      "\n",
      "['Photo Editor & Candy Camera & Grid & ScrapBook', 'ART_AND_DESIGN', '4.1', '159', '19M', '10,000+', 'Free', '0', 'Everyone', 'Art & Design', 'January 7, 2018', '1.0.0', '4.0.3 and up']\n",
      "\n",
      "\n",
      "['Coloring book moana', 'ART_AND_DESIGN', '3.9', '967', '14M', '500,000+', 'Free', '0', 'Everyone', 'Art & Design;Pretend Play', 'January 15, 2018', '2.0.0', '4.0.3 and up']\n",
      "\n",
      "\n",
      "['U Launcher Lite – FREE Live Cool Themes, Hide Apps', 'ART_AND_DESIGN', '4.7', '87510', '8.7M', '5,000,000+', 'Free', '0', 'Everyone', 'Art & Design', 'August 1, 2018', '1.2.4', '4.0.3 and up']\n",
      "\n",
      "\n",
      "Number of rows: 10841\n",
      "Number of columns 13\n",
      "['id', 'track_name', 'size_bytes', 'currency', 'price', 'rating_count_tot', 'rating_count_ver', 'user_rating', 'user_rating_ver', 'ver', 'cont_rating', 'prime_genre', 'sup_devices.num', 'ipadSc_urls.num', 'lang.num', 'vpp_lic']\n",
      "\n",
      "\n",
      "['284882215', 'Facebook', '389879808', 'USD', '0.0', '2974676', '212', '3.5', '3.5', '95.0', '4+', 'Social Networking', '37', '1', '29', '1']\n",
      "\n",
      "\n",
      "['389801252', 'Instagram', '113954816', 'USD', '0.0', '2161558', '1289', '4.5', '4.0', '10.23', '12+', 'Photo & Video', '37', '0', '29', '1']\n",
      "\n",
      "\n",
      "['529479190', 'Clash of Clans', '116476928', 'USD', '0.0', '2130805', '579', '4.5', '4.5', '9.24.12', '9+', 'Games', '38', '5', '18', '1']\n",
      "\n",
      "\n",
      "Number of rows: 7197\n",
      "Number of columns 16\n"
     ]
    }
   ],
   "source": [
    "print(android_header)\n",
    "print('\\n')\n",
    "explore_dataset(android, 0, 3, True)\n",
    "\n",
    "print(iOS_header)\n",
    "print('\\n')\n",
    "explore_dataset(iOS, 0, 3, True)"
   ]
  },
  {
   "cell_type": "markdown",
   "metadata": {},
   "source": [
    "Thanks to our new function and variables we can easily know how many rows and columns we have on android and iOS. This is key to know the starting point, as we will need to check out and filter the data and what we know might differ from what we will have at the end of this project. "
   ]
  },
  {
   "cell_type": "markdown",
   "metadata": {},
   "source": [
    "Cleaning data:"
   ]
  },
  {
   "cell_type": "code",
   "execution_count": 4,
   "metadata": {
    "scrolled": true
   },
   "outputs": [
    {
     "name": "stdout",
     "output_type": "stream",
     "text": [
      "['Life Made WI-Fi Touchscreen Photo Frame', '1.9', '19', '3.0M', '1,000+', 'Free', '0', 'Everyone', '', 'February 11, 2018', '1.0.19', '4.0 and up']\n",
      "\n",
      "\n",
      "['App', 'Category', 'Rating', 'Reviews', 'Size', 'Installs', 'Type', 'Price', 'Content Rating', 'Genres', 'Last Updated', 'Current Ver', 'Android Ver']\n",
      "\n",
      "\n",
      "['Photo Editor & Candy Camera & Grid & ScrapBook', 'ART_AND_DESIGN', '4.1', '159', '19M', '10,000+', 'Free', '0', 'Everyone', 'Art & Design', 'January 7, 2018', '1.0.0', '4.0.3 and up']\n"
     ]
    }
   ],
   "source": [
    "print(android[10472])\n",
    "print('\\n')\n",
    "print(android_header)\n",
    "print('\\n')\n",
    "print(android[0])"
   ]
  },
  {
   "cell_type": "code",
   "execution_count": 5,
   "metadata": {
    "scrolled": true
   },
   "outputs": [
    {
     "name": "stdout",
     "output_type": "stream",
     "text": [
      "10841\n",
      "10840\n"
     ]
    }
   ],
   "source": [
    "print(len(android))\n",
    "del android[10472]\n",
    "print(len(android))"
   ]
  },
  {
   "cell_type": "markdown",
   "metadata": {},
   "source": [
    "Our next step is practicing cleaning data. For that, in the Google Play Store forum,there's a [discussion](https://www.kaggle.com/datasets/lava18/google-play-store-apps/discussion/66015) about an error located in the row **10472**. To know why this row gives us error, we're going to print that one, the header, and another row that doesn't have any error.\n",
    "\n",
    "First row is the **10472**, which corresponds to the App *‘Life Made WiFi Touchscreen Photo Frame’*. \n",
    "Second row is the header of the entire dataset, in other words, which categories we can find in the columns below.\n",
    "Third row is a row that presents no further issues\n",
    "\n",
    "What's the error, if everything seems normal? We have to take a look at the **print(android_header)** row first, the third column would correspond with *‘Rating’*, but in the third column of the **print(android[10472])** we can see that it would correspond with *‘19’*, since in the Google Play Store the ratings just go up as high as 5 stars, best case scenario this column should reflect a number from 1 to 5, not 19, which indicates to us that some data might be missing. \n",
    "\n",
    "If we search in the [forum](https://www.kaggle.com/datasets/lava18/google-play-store-apps/discussion/66015), many users point out that there’s a missing value in the column data named *‘Category’*, therefore the column values shift and that’s why we had that weird result. Even the creator of the dataset confirms that 1.9 is the app rating. \n",
    "\n",
    "In order to fix this disorder, we have to eliminate the row, for the remaining rows to match the headers. \n",
    "\n",
    "For that we've used the **del** statement, and now we have **10840** rows instead of the previous **10841** we had. "
   ]
  },
  {
   "cell_type": "markdown",
   "metadata": {},
   "source": [
    "After further checking out both the Google Play dataset and the discussion, we've noticed that there are some duplicate apps, which means that from all the 10840 rows this dataset currently has, not all of them repressent unique values. For example, there are various rows dedicated to Social Media Platforms"
   ]
  },
  {
   "cell_type": "code",
   "execution_count": 6,
   "metadata": {},
   "outputs": [
    {
     "name": "stdout",
     "output_type": "stream",
     "text": [
      "\n",
      "\n",
      "['Instagram', 'SOCIAL', '4.5', '66577313', 'Varies with device', '1,000,000,000+', 'Free', '0', 'Teen', 'Social', 'July 31, 2018', 'Varies with device', 'Varies with device']\n",
      "\n",
      "\n",
      "['Instagram', 'SOCIAL', '4.5', '66577446', 'Varies with device', '1,000,000,000+', 'Free', '0', 'Teen', 'Social', 'July 31, 2018', 'Varies with device', 'Varies with device']\n",
      "\n",
      "\n",
      "['Instagram', 'SOCIAL', '4.5', '66577313', 'Varies with device', '1,000,000,000+', 'Free', '0', 'Teen', 'Social', 'July 31, 2018', 'Varies with device', 'Varies with device']\n",
      "\n",
      "\n",
      "['Instagram', 'SOCIAL', '4.5', '66509917', 'Varies with device', '1,000,000,000+', 'Free', '0', 'Teen', 'Social', 'July 31, 2018', 'Varies with device', 'Varies with device']\n",
      "\n",
      "\n",
      "['Facebook', 'SOCIAL', '4.1', '78158306', 'Varies with device', '1,000,000,000+', 'Free', '0', 'Teen', 'Social', 'August 3, 2018', 'Varies with device', 'Varies with device']\n",
      "\n",
      "\n",
      "['Facebook', 'SOCIAL', '4.1', '78128208', 'Varies with device', '1,000,000,000+', 'Free', '0', 'Teen', 'Social', 'August 3, 2018', 'Varies with device', 'Varies with device']\n",
      "\n",
      "\n",
      "['Twitter', 'NEWS_AND_MAGAZINES', '4.3', '11667403', 'Varies with device', '500,000,000+', 'Free', '0', 'Mature 17+', 'News & Magazines', 'August 6, 2018', 'Varies with device', 'Varies with device']\n",
      "\n",
      "\n",
      "['Twitter', 'NEWS_AND_MAGAZINES', '4.3', '11667403', 'Varies with device', '500,000,000+', 'Free', '0', 'Mature 17+', 'News & Magazines', 'August 6, 2018', 'Varies with device', 'Varies with device']\n",
      "\n",
      "\n",
      "['Twitter', 'NEWS_AND_MAGAZINES', '4.3', '11657972', 'Varies with device', '500,000,000+', 'Free', '0', 'Mature 17+', 'News & Magazines', 'July 30, 2018', 'Varies with device', 'Varies with device']\n"
     ]
    }
   ],
   "source": [
    "for app in android:\n",
    "    name = app[0]\n",
    "    if name == 'Instagram':\n",
    "        print('\\n')\n",
    "        print(app)\n",
    "        \n",
    "for app in android:\n",
    "    name = app[0]\n",
    "    if name == 'Facebook':\n",
    "        print('\\n')\n",
    "        print(app)\n",
    "        \n",
    "for app in android:\n",
    "    name = app[0]\n",
    "    if name == 'Twitter':\n",
    "        print('\\n')\n",
    "        print(app)"
   ]
  },
  {
   "cell_type": "markdown",
   "metadata": {},
   "source": [
    "As we can observe, with just a quick look we can see that there are **four rows** dedicated to 'Instagram', **two rows** dedicated to 'Faceebok' and **three rows** dedicated to 'Twitter', with almost identical data, which raises the following question: Which one should we eliminate?\n",
    "\n",
    "The key is the **fourth column** on each row, which is the only data that differs from one row to another. What repressent the fourth column, then? We just have to **print** again the **headers of the android dataset** to know it."
   ]
  },
  {
   "cell_type": "code",
   "execution_count": 7,
   "metadata": {},
   "outputs": [
    {
     "name": "stdout",
     "output_type": "stream",
     "text": [
      "['App', 'Category', 'Rating', 'Reviews', 'Size', 'Installs', 'Type', 'Price', 'Content Rating', 'Genres', 'Last Updated', 'Current Ver', 'Android Ver']\n"
     ]
    }
   ],
   "source": [
    "print(android_header)"
   ]
  },
  {
   "cell_type": "markdown",
   "metadata": {},
   "source": [
    "The discordant column corresponds to *Reviews* which means that the app version with the most reviews will be the most updated. But how many more duplicate apps will we find beyond the social media ones? "
   ]
  },
  {
   "cell_type": "code",
   "execution_count": 8,
   "metadata": {},
   "outputs": [
    {
     "name": "stdout",
     "output_type": "stream",
     "text": [
      "Number of duplicate apps: 1181\n",
      "\n",
      "\n",
      "Number of unique apps: 9659\n",
      "\n",
      "\n",
      "Examples of duplicate apps: ['Quick PDF Scanner + OCR FREE', 'Box', 'Google My Business', 'ZOOM Cloud Meetings', 'join.me - Simple Meetings', 'Box', 'Zenefits', 'Google Ads', 'Google My Business', 'Slack']\n",
      "\n",
      "\n",
      "Examples of unique apps: ['Photo Editor & Candy Camera & Grid & ScrapBook', 'Coloring book moana', 'U Launcher Lite – FREE Live Cool Themes, Hide Apps', 'Sketch - Draw & Paint', 'Pixel Draw - Number Art Coloring Book', 'Paper flowers instructions', 'Smoke Effect Photo Maker - Smoke Editor', 'Infinite Painter', 'Garden Coloring Book', 'Kids Paint Free - Drawing Fun']\n"
     ]
    }
   ],
   "source": [
    "duplicate_apps = []\n",
    "unique_apps = []\n",
    "\n",
    "for app in android:\n",
    "    name = app[0]\n",
    "    if name in unique_apps:\n",
    "        duplicate_apps.append(name)\n",
    "    else:\n",
    "        unique_apps.append(name)\n",
    "print('Number of duplicate apps:', len(duplicate_apps))\n",
    "print('\\n')\n",
    "print('Number of unique apps:', len(unique_apps))\n",
    "print('\\n')\n",
    "print('Examples of duplicate apps:', duplicate_apps[:10])\n",
    "print('\\n')\n",
    "print('Examples of unique apps:', unique_apps[:10])"
   ]
  },
  {
   "cell_type": "markdown",
   "metadata": {},
   "source": [
    "To solve how many repeated apps we have, we've created **two different lists**, one for **duplicate apps**, another one for **unique apps**. \n",
    "\n",
    "Then, we've looped the apps in android by creating a new variable called *'name'* and introduced an **IF** condition. If the name of the app appears more than once in the unique apps list (that's why we've looped the apps), it means that it should go to the duplicate list. In other words, we will *append it* to that list\n",
    "If not (the *else* statement) and it just appears once, it will remain on the unique apps list. \n",
    "\n",
    "At last we've printed the number of both duplicate and unique apps, together with a few examples to get the exact number of how many rows we have to eliminate for having repeated apps: **1181**. \n",
    "\n",
    "But between identical apps, which will erase and which will survive? Based on the *'Reviews'* criteria we will just leave the versions with the highest number of reviews, as we understand that they are the most updated versions. "
   ]
  },
  {
   "cell_type": "code",
   "execution_count": 9,
   "metadata": {},
   "outputs": [
    {
     "name": "stdout",
     "output_type": "stream",
     "text": [
      "Actual length 9659\n",
      "Expected length 9659\n"
     ]
    }
   ],
   "source": [
    "reviews_max = {}\n",
    "\n",
    "for app in android:\n",
    "    name = app[0]\n",
    "    n_reviews = float(app[3])\n",
    "    \n",
    "    if name in reviews_max and reviews_max[name] < n_reviews:\n",
    "        reviews_max[name] = n_reviews \n",
    "        \n",
    "    elif name not in reviews_max:\n",
    "        reviews_max[name] = n_reviews\n",
    "        \n",
    "print('Actual length', len(android) - 1181) \n",
    "print('Expected length', len(reviews_max))"
   ]
  },
  {
   "cell_type": "markdown",
   "metadata": {},
   "source": [
    "Our next target is to build a dictionary where we will use as keys unique values with the name of the apps, whose values will be the nº of reviews. For that, we've named it **reviews_max**\n",
    "\n",
    "We've looped the app row in the google play store dataset (android), with *name* taking data from *app*, which we've just looped, then, we've converted to **float** the data from the reviews of the apps (hence the app[3]) and put it under the function *n_reviews*. Also, we've introduced a couple of conditions: If *name* (making reference to the name column of the dataset) is already a key in our new dictionary and the number of reviews_max is **less than** n_reviews, then we will update the former.\n",
    "\n",
    "On the contrary, if name is not in reviews_max, it will automatically create a new entry in the dictionary with a unique app as a key and the value is the number of reviews. We have used elif to tell python from doing more operations. \n",
    "\n",
    "Once we've done the first calculations, we've printed the length of the android dataset minus the 1181 reviews, and the result is 9659, which matches with the expected length and the calculations we did in the exercise before. "
   ]
  },
  {
   "cell_type": "code",
   "execution_count": 10,
   "metadata": {},
   "outputs": [],
   "source": [
    "android_clean = []\n",
    "already_added = []\n",
    "\n",
    "for app in android:\n",
    "    name = app[0]\n",
    "    n_reviews = float(app[3])\n",
    "    \n",
    "    if (n_reviews == reviews_max[name]) and (name not in already_added):\n",
    "            android_clean.append(app)\n",
    "            already_added.append(name)"
   ]
  },
  {
   "cell_type": "markdown",
   "metadata": {},
   "source": [
    "We've created two empty lists, **android_clean**, where we will try to put all of out cleansed data, and the **already_added list**, with just app names, unclean data if you please. \n",
    "\n",
    "Again, we've looped the entire row (under the name of *app*) on the **android** dataset, containing the entirety of the app names (hence the 0) under the variable *name*, and converted the number of reviews (the app[3]) to float and put it under the variable *n_reviews*\n",
    "\n",
    "Then it's time to introduce a couple of **conditions**: If the *n_reviews* equals to the *max number* of reviews of the app *name* (again, making reference to *name column* of the dataset), **and** that *name* is not in the already_added list, we will have to append data to both of the list we've created both. It's worth mention that both conditions are mandatory in order to append. \n",
    "\n",
    "Once conditions are met, the entire *app* row will be appended to the **android_clean** list, and the *name* of the app will go to the **already_added** list, where we will have the app names, as we stated before. \n",
    "\n",
    "\n",
    "\n",
    "\n",
    "\n"
   ]
  },
  {
   "cell_type": "code",
   "execution_count": 11,
   "metadata": {},
   "outputs": [
    {
     "name": "stdout",
     "output_type": "stream",
     "text": [
      "['Photo Editor & Candy Camera & Grid & ScrapBook', 'ART_AND_DESIGN', '4.1', '159', '19M', '10,000+', 'Free', '0', 'Everyone', 'Art & Design', 'January 7, 2018', '1.0.0', '4.0.3 and up']\n",
      "\n",
      "\n",
      "['U Launcher Lite – FREE Live Cool Themes, Hide Apps', 'ART_AND_DESIGN', '4.7', '87510', '8.7M', '5,000,000+', 'Free', '0', 'Everyone', 'Art & Design', 'August 1, 2018', '1.2.4', '4.0.3 and up']\n",
      "\n",
      "\n",
      "['Sketch - Draw & Paint', 'ART_AND_DESIGN', '4.5', '215644', '25M', '50,000,000+', 'Free', '0', 'Teen', 'Art & Design', 'June 8, 2018', 'Varies with device', '4.2 and up']\n",
      "\n",
      "\n",
      "Number of rows: 9659\n",
      "Number of columns 13\n"
     ]
    }
   ],
   "source": [
    "explore_dataset(android_clean, 0, 3, True)"
   ]
  },
  {
   "cell_type": "markdown",
   "metadata": {},
   "source": [
    "As expected, after using our created function **explore_dataset** on the *android_clean* list, the *0*, and *3* rows and checking if everything was **True**, we got the same number of rows, **9659** and **13** columns. "
   ]
  },
  {
   "cell_type": "markdown",
   "metadata": {},
   "source": [
    "Since our company develop apps on English since this is the language of our audience, as we did with the duplicate apps, we need to remove from the database those apps not destined for an English-speaking market. Since we have almost 10.000 rows, there's a high chance that we encounter some apps in another languages. For example: "
   ]
  },
  {
   "cell_type": "code",
   "execution_count": 12,
   "metadata": {},
   "outputs": [
    {
     "name": "stdout",
     "output_type": "stream",
     "text": [
      "中国語 AQリスニング\n",
      "لعبة تقدر تربح DZ\n"
     ]
    }
   ],
   "source": [
    "print(android_clean[4412][0])\n",
    "print(android_clean[7940][0])"
   ]
  },
  {
   "cell_type": "markdown",
   "metadata": {},
   "source": [
    "We're going to do the following: Our rule for erasing apps will be based on symbols. We will eliminate those which doesn't use symbols commonly used in English test, which ranges from letters from the alphabet (A-Z), numbers composed composed of digits from 0 to 9, punctuation marks (., !, ?, ;), and other symbols (+, *, /).* Those characters have a numeric equivalence in Python. For example, 'a' corresponds to 97, while 'A' to 65. We know that thanks to the build-in function ord(). \n",
    "\n",
    "The numbers corresponding to the characters we commonly use in an English text are all in the range **0 to 127**, which means that anything that falls beyond that rank, won't be an English character. \n",
    "\n",
    "Based on that, we'll create a function that will rank all characters between 0-127 as **True** and those above as **False**"
   ]
  },
  {
   "cell_type": "code",
   "execution_count": 13,
   "metadata": {},
   "outputs": [
    {
     "name": "stdout",
     "output_type": "stream",
     "text": [
      "True\n",
      "False\n",
      "False\n",
      "False\n"
     ]
    }
   ],
   "source": [
    "def english_apps(string):\n",
    "    \n",
    "    for character in string:\n",
    "        if ord(character) > 127:\n",
    "            return False\n",
    "        \n",
    "    return True\n",
    "\n",
    "print(english_apps('Instagram'))\n",
    "print(english_apps('爱奇艺PPS -《欢乐颂2》电视剧热播'))\n",
    "print(english_apps('Docs To Go™ Free Office Suite'))\n",
    "print(english_apps('Instachat 😜'))"
   ]
  },
  {
   "cell_type": "markdown",
   "metadata": {},
   "source": [
    "In order for our function **english_apps** to properly work, which iterates over the imput *string*, we've looped the *character* in the *string*, then used the ord() function to know the number of each character. If that character **is bigger than 127** it will return as **False**, if it doesn't meet that condition will simply return as **True**. \n",
    "\n",
    "We've tried four examples to test our brand new function, but more problems arise. With the first two, it correctly analyzes if the characters are True (between 0-127) or False (greater than 127), but the following two uses emojis and special symbols that can't be detected by the normal code system, therefore the results are deceitful. \n",
    "\n",
    "Those two are English apps, but because of the special symbols, Python doesn't detect them as such. And we could be eliminating worthy apps. So we have to think about a solution for the function.  \n",
    "\n",
    "One plausible solution could be eliminate an app if it has more than three emojis and/or special characters. While it's not a perfect solution  some functions might still be unfairly erased, it should work. "
   ]
  },
  {
   "cell_type": "code",
   "execution_count": 14,
   "metadata": {},
   "outputs": [
    {
     "name": "stdout",
     "output_type": "stream",
     "text": [
      "True\n",
      "True\n",
      "False\n"
     ]
    }
   ],
   "source": [
    "def english_apps(string):\n",
    "    non_ascii = 0\n",
    "    \n",
    "    for character in string:\n",
    "        if ord(character) > 127:\n",
    "            non_ascii += 1\n",
    "        \n",
    "    if non_ascii > 3:\n",
    "        return False\n",
    "    else:\n",
    "        return True\n",
    "\n",
    "print(english_apps('Docs To Go™ Free Office Suite'))\n",
    "print(english_apps('Instachat 😜'))\n",
    "print(english_apps('爱奇艺PPS -《欢乐颂2》电视剧热播'))"
   ]
  },
  {
   "cell_type": "markdown",
   "metadata": {},
   "source": [
    "We made a few modifications: First of we've introduced together with the new function **english_apps** the variable *non_ascii* as empty or **0**, which is based on the **ASCII system**, the one which determines the range 0 to 127.\n",
    "\n",
    "Then we've looped again the *character*, and it has to have a few conditions: If is superior to 127 we will sum 1 to the value of *non_ascii*, and if the value of *non_ascii* is **greater than 3**, then the result should be **False**. If those conditions doesn't exist, the result will be **True**. \n",
    "\n",
    "After printing again the two apps with special symbols, we see that this time Python detects them as True, thanks to the second conditional of *if non_ascii > 3*\n",
    "\n",
    "After checking out that the function works properly, it's time to test in on both datasets for Google Play and iOS. "
   ]
  },
  {
   "cell_type": "code",
   "execution_count": 15,
   "metadata": {},
   "outputs": [
    {
     "name": "stdout",
     "output_type": "stream",
     "text": [
      "['App', 'Category', 'Rating', 'Reviews', 'Size', 'Installs', 'Type', 'Price', 'Content Rating', 'Genres', 'Last Updated', 'Current Ver', 'Android Ver']\n",
      "\n",
      "\n",
      "['id', 'track_name', 'size_bytes', 'currency', 'price', 'rating_count_tot', 'rating_count_ver', 'user_rating', 'user_rating_ver', 'ver', 'cont_rating', 'prime_genre', 'sup_devices.num', 'ipadSc_urls.num', 'lang.num', 'vpp_lic']\n"
     ]
    }
   ],
   "source": [
    "print(android_header)\n",
    "print('\\n')\n",
    "print(iOS_header)"
   ]
  },
  {
   "cell_type": "code",
   "execution_count": 16,
   "metadata": {},
   "outputs": [
    {
     "name": "stdout",
     "output_type": "stream",
     "text": [
      "['Photo Editor & Candy Camera & Grid & ScrapBook', 'ART_AND_DESIGN', '4.1', '159', '19M', '10,000+', 'Free', '0', 'Everyone', 'Art & Design', 'January 7, 2018', '1.0.0', '4.0.3 and up']\n",
      "\n",
      "\n",
      "['U Launcher Lite – FREE Live Cool Themes, Hide Apps', 'ART_AND_DESIGN', '4.7', '87510', '8.7M', '5,000,000+', 'Free', '0', 'Everyone', 'Art & Design', 'August 1, 2018', '1.2.4', '4.0.3 and up']\n",
      "\n",
      "\n",
      "['Sketch - Draw & Paint', 'ART_AND_DESIGN', '4.5', '215644', '25M', '50,000,000+', 'Free', '0', 'Teen', 'Art & Design', 'June 8, 2018', 'Varies with device', '4.2 and up']\n",
      "\n",
      "\n",
      "Number of rows: 9614\n",
      "Number of columns 13\n",
      "\n",
      "\n",
      "['284882215', 'Facebook', '389879808', 'USD', '0.0', '2974676', '212', '3.5', '3.5', '95.0', '4+', 'Social Networking', '37', '1', '29', '1']\n",
      "\n",
      "\n",
      "['389801252', 'Instagram', '113954816', 'USD', '0.0', '2161558', '1289', '4.5', '4.0', '10.23', '12+', 'Photo & Video', '37', '0', '29', '1']\n",
      "\n",
      "\n",
      "['529479190', 'Clash of Clans', '116476928', 'USD', '0.0', '2130805', '579', '4.5', '4.5', '9.24.12', '9+', 'Games', '38', '5', '18', '1']\n",
      "\n",
      "\n",
      "Number of rows: 6183\n",
      "Number of columns 16\n"
     ]
    }
   ],
   "source": [
    "android_english = []\n",
    "iOS_english = []\n",
    "\n",
    "for app in android_clean:\n",
    "    name = app[0]\n",
    "    if english_apps(name):\n",
    "        android_english.append(app)\n",
    "        \n",
    "for app in iOS:\n",
    "    name = app[1]\n",
    "    if english_apps(name):\n",
    "        iOS_english.append(app)\n",
    "        \n",
    "explore_dataset(android_english, 0, 3, True)\n",
    "print('\\n')\n",
    "explore_dataset(iOS_english, 0, 3, True)"
   ]
  },
  {
   "cell_type": "markdown",
   "metadata": {},
   "source": [
    "We've created two empty lists, one for each dataset. \n",
    "\n",
    "First we've looped the *app* in our *android_clean* and *iOS* datasets and created the variable *name*, which will contain the names of the apps. If the android and iOS databases have [0] and [1] respectively it is because in the datasets, the columns in the datasets have a different order, being *name* the first column in Google Play Store, while being the second in the iOS.\n",
    "\n",
    "Then, we've used our new function *english_apps* on the *name*. If that *name* meets the criteria for the english apps set in our previous function (< 127  or non_ascii < 3) it will be appended to the lists **android_english/iOS_english**. \n",
    "\n",
    "Finally we've used the *explore_datasets* function to know exactly how many english apps we have on the datasets. Which gives us **9614** on Android and **6183** on iOS."
   ]
  },
  {
   "cell_type": "markdown",
   "metadata": {},
   "source": [
    "Since our company just creates apps that are free to download and install and we make our money through in-app ads, we need to separate free and payment apps from the datasets we've been working on and so far we've eliminated the incorrect data, the duplicate apps and the non-english apps. For that, our next step is to isolate free apps. "
   ]
  },
  {
   "cell_type": "code",
   "execution_count": 17,
   "metadata": {},
   "outputs": [
    {
     "name": "stdout",
     "output_type": "stream",
     "text": [
      "Number of rows in Android: 8864\n",
      "Number of rows in iOS: 3222\n"
     ]
    }
   ],
   "source": [
    "android_free = []\n",
    "iOS_free = []\n",
    "\n",
    "for app in android_english:\n",
    "    price = app[7]\n",
    "    if price == '0':\n",
    "        android_free.append(app)\n",
    "\n",
    "for app in iOS_english:\n",
    "    price = app[4]\n",
    "    if price == '0.0':\n",
    "        iOS_free.append(app)\n",
    "        \n",
    "print(\"Number of rows in Android:\", len(android_free))\n",
    "print(\"Number of rows in iOS:\", len(iOS_free))"
   ]
  },
  {
   "cell_type": "markdown",
   "metadata": {},
   "source": [
    "The easiest way to isolate those free apps is to create separate lists for them, android and iOS free.\n",
    "\n",
    "Then looped our already cleansed datasets from the previous step, created a variable named *price* instead of the usual *name* so far, which will take data from their respective *price* columns in the android and iOS datasets (hence the 7 and 4, as each has their own order). \n",
    "\n",
    "Then we've introduced an IF conditional, but this one is tricky and easy to miss. Since prices come up as strings in the datasets ('0', $0.99, $6.66, etc.) we can't just work with integers or floats in this part, since something like price == 0 will confuse Python and will make it believe that *price* is equivalent to 0, therefore the result of the rows will always be **0**, no matter what. That's why those zeros are put as strings. \n",
    "\n",
    "Following the normal course of action, we then tell Python that if *price* of an app in the dataset has a string of 0 or 0.0, it has to be appended to the new lists for being free. \n",
    "\n",
    "Then we just checked the results, by measuring the length of the new lists. Meaning that now we have **8.864** free apps in Android and **3.222** in iOS. \n",
    "\n",
    "After eliminating incorrect data, duplicate, non-english and non-free apps, we can say for sure that we've completed the purgation of the datasets and we're ready to analyze the valid data. "
   ]
  },
  {
   "cell_type": "markdown",
   "metadata": {},
   "source": [
    "We need to make our app profitable, for that we need to choose which apps will be more likely to attract more users, since our finantial gains come from the in-game adds. The more people playing our apps, the more posibilities they click on our adds. \n",
    "\n",
    "For that, we will develop our app for Google and iOS, which means to find a profile thaat is successful in both of them. The best way to find that successful profile will be determined by which genres are the most popular on both databases, as we it will give us more audience. "
   ]
  },
  {
   "cell_type": "code",
   "execution_count": 18,
   "metadata": {},
   "outputs": [
    {
     "name": "stdout",
     "output_type": "stream",
     "text": [
      "['App', 'Category', 'Rating', 'Reviews', 'Size', 'Installs', 'Type', 'Price', 'Content Rating', 'Genres', 'Last Updated', 'Current Ver', 'Android Ver']\n",
      "\n",
      "\n",
      "['id', 'track_name', 'size_bytes', 'currency', 'price', 'rating_count_tot', 'rating_count_ver', 'user_rating', 'user_rating_ver', 'ver', 'cont_rating', 'prime_genre', 'sup_devices.num', 'ipadSc_urls.num', 'lang.num', 'vpp_lic']\n"
     ]
    }
   ],
   "source": [
    "print(android_header)\n",
    "print('\\n')\n",
    "print(iOS_header)"
   ]
  },
  {
   "cell_type": "markdown",
   "metadata": {},
   "source": [
    "We will create frequency tables with the data from the column *'Genres'* in android and *'prime_genre'* in iOS, to determine the most popular genres. "
   ]
  },
  {
   "cell_type": "code",
   "execution_count": 19,
   "metadata": {},
   "outputs": [],
   "source": [
    "def freq_table(dataset, index):\n",
    "    table = {}\n",
    "    total = 0\n",
    "    \n",
    "    for row in dataset:\n",
    "        total += 1\n",
    "        value = row[index]\n",
    "        if value in table:\n",
    "            table[value] += 1\n",
    "        else:\n",
    "            table[value] = 1\n",
    "    \n",
    "    table_percentages = {}\n",
    "    for key in table:\n",
    "        percentage = (table[key] / total) * 100\n",
    "        table_percentages[key] = percentage\n",
    "    \n",
    "    return table_percentages\n",
    "\n",
    "def display_table(dataset, index):\n",
    "    table = freq_table(dataset, index)\n",
    "    table_display = []\n",
    "    for key in table:\n",
    "        key_val_as_tuple = (table[key], key)\n",
    "        table_display.append(key_val_as_tuple)\n",
    "\n",
    "    table_sorted = sorted(table_display, reverse = True)\n",
    "    for entry in table_sorted:\n",
    "        print(entry[1], ':', entry[0])\n"
   ]
  },
  {
   "cell_type": "markdown",
   "metadata": {},
   "source": [
    "Although lengthy, this is a brief description of what we've done in this code:\n",
    "\n",
    "First off, we will create a function that generates frequency tables with percentages. That function will be named **freq_table** which has two imputs, *dataset* (a list of lists) and *integer* (an integer). Inside the function an empty dictionary named **table**, which will be our frequency table and the function *total* with a 0 value, which doesn't make sense for now, but it will.\n",
    "\n",
    "Then we've looped the *row* in the *dataset* in order to count all the data.The loop will sum 1 to the *total*, that's why we needed it, then the *row* will go under the *value* variable. Then, we introduce an IF variable.\n",
    "\n",
    "If *value* (which takes data from the row) exist in the dictionary table, will sum up 1. In other words, if something is repeated in any row, the loop will count it. If not (*else*) will stay as an unique value, as one. \n",
    "\n",
    "So far, we would have created a regular frequency table. But as we stated earlier on, we don't need integer or float numbers, but percentages. Not how many action games we have in the dataset, but which percentage they repressent. \n",
    "\n",
    "For that we create another empty dictionary named **table_percentages**, where we loop the *key* of the previous dictionary *table*. We have calculated the percentage by dividing that dictionary by the *total* and then multiply the result by **100**. Everything will be under the variable *percentage*.\n",
    "\n",
    "Finally we wrap up everything by returning **table_percentages**."
   ]
  },
  {
   "cell_type": "markdown",
   "metadata": {},
   "source": [
    "Second step is to create another function that will sort those percentages in a descending order.\n",
    "\n",
    "The **display_table** also takes as imput *dataset* and *index*. Our function *table* will take the data from the previous function. Then, we haven't created another new dictionary, but a list (*table_display*) and we used another variable. If the *key* is in *table*, we will transform the frequency table into a list of tuples (*key_val_as_tuple*) and append the results to the empty list. \n",
    "\n",
    "In the end we will sort the entries of the frequency table in descending order. "
   ]
  },
  {
   "cell_type": "code",
   "execution_count": 20,
   "metadata": {},
   "outputs": [
    {
     "name": "stdout",
     "output_type": "stream",
     "text": [
      "Games : 58.16263190564867\n",
      "Entertainment : 7.883302296710118\n",
      "Photo & Video : 4.9658597144630665\n",
      "Education : 3.662321539416512\n",
      "Social Networking : 3.2898820608317814\n",
      "Shopping : 2.60707635009311\n",
      "Utilities : 2.5139664804469275\n",
      "Sports : 2.1415270018621975\n",
      "Music : 2.0484171322160147\n",
      "Health & Fitness : 2.0173805090006205\n",
      "Productivity : 1.7380509000620732\n",
      "Lifestyle : 1.5828677839851024\n",
      "News : 1.3345747982619491\n",
      "Travel : 1.2414649286157666\n",
      "Finance : 1.1173184357541899\n",
      "Weather : 0.8690254500310366\n",
      "Food & Drink : 0.8069522036002483\n",
      "Reference : 0.5586592178770949\n",
      "Business : 0.5276225946617008\n",
      "Book : 0.4345127250155183\n",
      "Navigation : 0.186219739292365\n",
      "Medical : 0.186219739292365\n",
      "Catalogs : 0.12414649286157665\n"
     ]
    }
   ],
   "source": [
    "display_table(iOS_free, 11)"
   ]
  },
  {
   "cell_type": "markdown",
   "metadata": {},
   "source": [
    "We've tested our brand new function **display_table** for us to check out the results. \n",
    "As we can see, more than half of the apps in the iOS database are games (**58%**), winning by a landslide, while its closest competitor doesn't even reach an 8%, which is Entertainment. \n",
    "\n",
    "Correlation doesn't means causality, which means that nothing guarentees that most of the users on those apps are active users, they just might download the game, play for a few times and then abandon it. Developing an app for iOS wouldn't be a risky movement, but it doesn't ensures a large chunk of users. Although it's worth developing. \n",
    "\n",
    "It's also noticeable that the most prominemt genres of apps are leisure-based, just for killing time, such as Games, Entertainment, Social Networking... While the \"practical\" ones, like \"Photo & Video\", \"Finance\", or \"Weather\" are a minority. \n",
    "\n",
    "A good option in this case would be to focus our developments on those apps for \"fun\", as they are majority in the Apple store, although we take the risk of entering a saturated market where it's difficult to get noticed. "
   ]
  },
  {
   "cell_type": "code",
   "execution_count": 21,
   "metadata": {},
   "outputs": [
    {
     "name": "stdout",
     "output_type": "stream",
     "text": [
      "FAMILY : 18.907942238267147\n",
      "GAME : 9.724729241877256\n",
      "TOOLS : 8.461191335740072\n",
      "BUSINESS : 4.591606498194946\n",
      "LIFESTYLE : 3.9034296028880866\n",
      "PRODUCTIVITY : 3.892148014440433\n",
      "FINANCE : 3.7003610108303246\n",
      "MEDICAL : 3.531137184115524\n",
      "SPORTS : 3.395758122743682\n",
      "PERSONALIZATION : 3.3167870036101084\n",
      "COMMUNICATION : 3.2378158844765346\n",
      "HEALTH_AND_FITNESS : 3.0798736462093865\n",
      "PHOTOGRAPHY : 2.944494584837545\n",
      "NEWS_AND_MAGAZINES : 2.7978339350180503\n",
      "SOCIAL : 2.6624548736462095\n",
      "TRAVEL_AND_LOCAL : 2.33528880866426\n",
      "SHOPPING : 2.2450361010830324\n",
      "BOOKS_AND_REFERENCE : 2.1435018050541514\n",
      "DATING : 1.861462093862816\n",
      "VIDEO_PLAYERS : 1.7937725631768955\n",
      "MAPS_AND_NAVIGATION : 1.3989169675090252\n",
      "FOOD_AND_DRINK : 1.2409747292418771\n",
      "EDUCATION : 1.1620036101083033\n",
      "ENTERTAINMENT : 0.9589350180505415\n",
      "LIBRARIES_AND_DEMO : 0.9363718411552346\n",
      "AUTO_AND_VEHICLES : 0.9250902527075812\n",
      "HOUSE_AND_HOME : 0.8235559566787004\n",
      "WEATHER : 0.8009927797833934\n",
      "EVENTS : 0.7107400722021661\n",
      "PARENTING : 0.6543321299638989\n",
      "ART_AND_DESIGN : 0.6430505415162455\n",
      "COMICS : 0.6204873646209386\n",
      "BEAUTY : 0.5979241877256317\n"
     ]
    }
   ],
   "source": [
    "display_table(android_free, 1)"
   ]
  },
  {
   "cell_type": "markdown",
   "metadata": {},
   "source": [
    "The \"Category\" in the Google playstore show us a very different picture. While the first category (Family) doubles the second (Game), the percentage between them isn't so gigantic (18%-9%). In general, the genres have a percentage much better distributed. Even the practical apps, such as \"Tools\", \"Business\", \"Lifestyle\" are near the top places. While we don't exactly know what \"Family\" category makes reference to, it wouldn't be a wild guess imagining that could be games for infants. \n",
    "\n",
    "Even though two \"fun\" categories copes the first two places, the results tells us that the audience of Android users is much more diverse and versatile, while the Apple much more niche. "
   ]
  },
  {
   "cell_type": "code",
   "execution_count": 22,
   "metadata": {},
   "outputs": [
    {
     "name": "stdout",
     "output_type": "stream",
     "text": [
      "Tools : 8.449909747292418\n",
      "Entertainment : 6.069494584837545\n",
      "Education : 5.347472924187725\n",
      "Business : 4.591606498194946\n",
      "Productivity : 3.892148014440433\n",
      "Lifestyle : 3.892148014440433\n",
      "Finance : 3.7003610108303246\n",
      "Medical : 3.531137184115524\n",
      "Sports : 3.463447653429603\n",
      "Personalization : 3.3167870036101084\n",
      "Communication : 3.2378158844765346\n",
      "Action : 3.1024368231046933\n",
      "Health & Fitness : 3.0798736462093865\n",
      "Photography : 2.944494584837545\n",
      "News & Magazines : 2.7978339350180503\n",
      "Social : 2.6624548736462095\n",
      "Travel & Local : 2.3240072202166067\n",
      "Shopping : 2.2450361010830324\n",
      "Books & Reference : 2.1435018050541514\n",
      "Simulation : 2.0419675090252705\n",
      "Dating : 1.861462093862816\n",
      "Arcade : 1.8501805054151623\n",
      "Video Players & Editors : 1.7712093862815883\n",
      "Casual : 1.7599277978339352\n",
      "Maps & Navigation : 1.3989169675090252\n",
      "Food & Drink : 1.2409747292418771\n",
      "Puzzle : 1.128158844765343\n",
      "Racing : 0.9927797833935018\n",
      "Role Playing : 0.9363718411552346\n",
      "Libraries & Demo : 0.9363718411552346\n",
      "Auto & Vehicles : 0.9250902527075812\n",
      "Strategy : 0.9138086642599278\n",
      "House & Home : 0.8235559566787004\n",
      "Weather : 0.8009927797833934\n",
      "Events : 0.7107400722021661\n",
      "Adventure : 0.6768953068592057\n",
      "Comics : 0.6092057761732852\n",
      "Beauty : 0.5979241877256317\n",
      "Art & Design : 0.5979241877256317\n",
      "Parenting : 0.4963898916967509\n",
      "Card : 0.45126353790613716\n",
      "Casino : 0.42870036101083037\n",
      "Trivia : 0.41741877256317694\n",
      "Educational;Education : 0.39485559566787\n",
      "Board : 0.3835740072202166\n",
      "Educational : 0.3722924187725632\n",
      "Education;Education : 0.33844765342960287\n",
      "Word : 0.2594765342960289\n",
      "Casual;Pretend Play : 0.236913357400722\n",
      "Music : 0.2030685920577617\n",
      "Racing;Action & Adventure : 0.16922382671480143\n",
      "Puzzle;Brain Games : 0.16922382671480143\n",
      "Entertainment;Music & Video : 0.16922382671480143\n",
      "Casual;Brain Games : 0.13537906137184114\n",
      "Casual;Action & Adventure : 0.13537906137184114\n",
      "Arcade;Action & Adventure : 0.12409747292418773\n",
      "Action;Action & Adventure : 0.10153429602888085\n",
      "Educational;Pretend Play : 0.09025270758122744\n",
      "Simulation;Action & Adventure : 0.078971119133574\n",
      "Parenting;Education : 0.078971119133574\n",
      "Entertainment;Brain Games : 0.078971119133574\n",
      "Board;Brain Games : 0.078971119133574\n",
      "Parenting;Music & Video : 0.06768953068592057\n",
      "Educational;Brain Games : 0.06768953068592057\n",
      "Casual;Creativity : 0.06768953068592057\n",
      "Art & Design;Creativity : 0.06768953068592057\n",
      "Education;Pretend Play : 0.056407942238267145\n",
      "Role Playing;Pretend Play : 0.04512635379061372\n",
      "Education;Creativity : 0.04512635379061372\n",
      "Role Playing;Action & Adventure : 0.033844765342960284\n",
      "Puzzle;Action & Adventure : 0.033844765342960284\n",
      "Entertainment;Creativity : 0.033844765342960284\n",
      "Entertainment;Action & Adventure : 0.033844765342960284\n",
      "Educational;Creativity : 0.033844765342960284\n",
      "Educational;Action & Adventure : 0.033844765342960284\n",
      "Education;Music & Video : 0.033844765342960284\n",
      "Education;Brain Games : 0.033844765342960284\n",
      "Education;Action & Adventure : 0.033844765342960284\n",
      "Adventure;Action & Adventure : 0.033844765342960284\n",
      "Video Players & Editors;Music & Video : 0.02256317689530686\n",
      "Sports;Action & Adventure : 0.02256317689530686\n",
      "Simulation;Pretend Play : 0.02256317689530686\n",
      "Puzzle;Creativity : 0.02256317689530686\n",
      "Music;Music & Video : 0.02256317689530686\n",
      "Entertainment;Pretend Play : 0.02256317689530686\n",
      "Casual;Education : 0.02256317689530686\n",
      "Board;Action & Adventure : 0.02256317689530686\n",
      "Video Players & Editors;Creativity : 0.01128158844765343\n",
      "Trivia;Education : 0.01128158844765343\n",
      "Travel & Local;Action & Adventure : 0.01128158844765343\n",
      "Tools;Education : 0.01128158844765343\n",
      "Strategy;Education : 0.01128158844765343\n",
      "Strategy;Creativity : 0.01128158844765343\n",
      "Strategy;Action & Adventure : 0.01128158844765343\n",
      "Simulation;Education : 0.01128158844765343\n",
      "Role Playing;Brain Games : 0.01128158844765343\n",
      "Racing;Pretend Play : 0.01128158844765343\n",
      "Puzzle;Education : 0.01128158844765343\n",
      "Parenting;Brain Games : 0.01128158844765343\n",
      "Music & Audio;Music & Video : 0.01128158844765343\n",
      "Lifestyle;Pretend Play : 0.01128158844765343\n",
      "Lifestyle;Education : 0.01128158844765343\n",
      "Health & Fitness;Education : 0.01128158844765343\n",
      "Health & Fitness;Action & Adventure : 0.01128158844765343\n",
      "Entertainment;Education : 0.01128158844765343\n",
      "Communication;Creativity : 0.01128158844765343\n",
      "Comics;Creativity : 0.01128158844765343\n",
      "Casual;Music & Video : 0.01128158844765343\n",
      "Card;Action & Adventure : 0.01128158844765343\n",
      "Books & Reference;Education : 0.01128158844765343\n",
      "Art & Design;Pretend Play : 0.01128158844765343\n",
      "Art & Design;Action & Adventure : 0.01128158844765343\n",
      "Arcade;Pretend Play : 0.01128158844765343\n",
      "Adventure;Education : 0.01128158844765343\n"
     ]
    }
   ],
   "source": [
    "display_table(android_free, 9)"
   ]
  },
  {
   "cell_type": "markdown",
   "metadata": {},
   "source": [
    "The \"genres\" category confirms us our hypothesis. In this case, even a practical category like \"Tools\" leads the percentage ranking, while others like \"Education\", \"Business\", \"Productivity\" or \"Lifestyle\" are among the first places, while the fun genres are much more isolated in the ranking. \n",
    "\n",
    "We could sum up that our approach for iOS and Android must be radically different if we have to develop an app, since the users are nothing alike. "
   ]
  },
  {
   "cell_type": "markdown",
   "metadata": {},
   "source": [
    "Our next step is try to figure out which genres have the most users. One good way to do it is by seeing the number of installs of each app. While the Android database has a column named *“Installs”*, the Apple database doesn’t have one, the best we can get for the total number of users of an app is a proxy. In this case we will use *rating_count_tot*, the total number of ratings that each app has. This could prove that their users have been active enough to rate the app, therefore have been active enough to do it."
   ]
  },
  {
   "cell_type": "code",
   "execution_count": 23,
   "metadata": {},
   "outputs": [
    {
     "name": "stdout",
     "output_type": "stream",
     "text": [
      "Social Networking : 71548.34905660378\n",
      "Photo & Video : 28441.54375\n",
      "Games : 22788.6696905016\n",
      "Music : 57326.530303030304\n",
      "Reference : 74942.11111111111\n",
      "Health & Fitness : 23298.015384615384\n",
      "Weather : 52279.892857142855\n",
      "Utilities : 18684.456790123455\n",
      "Travel : 28243.8\n",
      "Shopping : 26919.690476190477\n",
      "News : 21248.023255813954\n",
      "Navigation : 86090.33333333333\n",
      "Lifestyle : 16485.764705882353\n",
      "Entertainment : 14029.830708661417\n",
      "Food & Drink : 33333.92307692308\n",
      "Sports : 23008.898550724636\n",
      "Book : 39758.5\n",
      "Finance : 31467.944444444445\n",
      "Education : 7003.983050847458\n",
      "Productivity : 21028.410714285714\n",
      "Business : 7491.117647058823\n",
      "Catalogs : 4004.0\n",
      "Medical : 612.0\n"
     ]
    }
   ],
   "source": [
    "genres_iOS = freq_table(iOS_free, -5)\n",
    "\n",
    "for genre in genres_iOS:\n",
    "    total = 0\n",
    "    len_genre = 0\n",
    "    for app in iOS_free:\n",
    "        genre_app = app[-5]\n",
    "        if genre_app == genre:\n",
    "            n_ratings = float(app[5])\n",
    "            total += n_ratings\n",
    "            len_genre += 1\n",
    "            \n",
    "    avg_number_ratings = (total / len_genre)\n",
    "    print(genre, ':', avg_number_ratings)\n",
    "    \n",
    "\n",
    "        \n"
   ]
  },
  {
   "cell_type": "markdown",
   "metadata": {},
   "source": [
    "To calculate the average number of users based on the proxy of *rating_count_tot* we've done the following above:\n",
    "\n",
    "We created a new variable, *genres_iOS* which uses our previous function *freq_table*, because we will need to display the results as a frequency table, which will use data from our iOS dataset.\n",
    "\n",
    "Then we've looped the *genres* in our new variable *genres_iOS* and created two more with a value of 0, to be fullied later on, in this case *total* and *len_genre*. \n",
    "\n",
    "Once again we've used another loop, in this case looping the *apps* in our cleaned dataset *iOS_free*. That loop has the variable *genre_app* which contains the app genre from *iOS_free*, and then wrote a condition. If *genre_app* is the same as *genre*, then we convert the user ratings (the fifth column, starting from 0) to a float and under the *n_ratings* variable (for number of ratings), we sum that last one to the *total* and sum *len_genre*. That's why they were at zero at the beginning. \n",
    "\n",
    "Thanks to those sums we can divide one by another to finally know the average number of ratings and finally print the result. \n",
    "\n"
   ]
  },
  {
   "cell_type": "markdown",
   "metadata": {},
   "source": [
    "The results are quite surprising, the navigation apps are in the top spot with **86090** units, while the social media apps, like **Facebook**, **Instagram** or **Tik Tok** are in third place with **71548**, falling close to the *Reference* apps, with **74942**. While some more recreational apps, like **Photo**, **Games** or **Music** are way behind the podium, being surpassed by more practical options such as **Weather**. \n",
    "\n",
    "In hindsight this makes sense: While not every iOS user will play long enough to a game to leave a review and it's not that important to know if a game it's good enough, other apps, like a GPS system or a Weather forecast are targeted to a broader target audience and the reviews are a key aspect. Many users might consider valuable to leave a review for an unrealiable GPS to save other people from the issues they may had experienced. \n",
    "\n",
    "This leads us to the main reason to develop a \"practical\" app for iOS. Users tend to leave a huge amount of reviews, which if we do our app properly could gives us visibility in the best way possible.\n",
    "\n",
    "For the second reason, we have to go back a little bit. The frequency table we created to display the more popular apps in the AppStore shown us that recreational apps are way more common, but it's harder to stand out among the crowd. While the practical apps seem to have more dedicated users."
   ]
  },
  {
   "cell_type": "code",
   "execution_count": 24,
   "metadata": {},
   "outputs": [
    {
     "name": "stdout",
     "output_type": "stream",
     "text": [
      "Games : 58.16263190564867\n",
      "Entertainment : 7.883302296710118\n",
      "Photo & Video : 4.9658597144630665\n",
      "Education : 3.662321539416512\n",
      "Social Networking : 3.2898820608317814\n",
      "Shopping : 2.60707635009311\n",
      "Utilities : 2.5139664804469275\n",
      "Sports : 2.1415270018621975\n",
      "Music : 2.0484171322160147\n",
      "Health & Fitness : 2.0173805090006205\n",
      "Productivity : 1.7380509000620732\n",
      "Lifestyle : 1.5828677839851024\n",
      "News : 1.3345747982619491\n",
      "Travel : 1.2414649286157666\n",
      "Finance : 1.1173184357541899\n",
      "Weather : 0.8690254500310366\n",
      "Food & Drink : 0.8069522036002483\n",
      "Reference : 0.5586592178770949\n",
      "Business : 0.5276225946617008\n",
      "Book : 0.4345127250155183\n",
      "Navigation : 0.186219739292365\n",
      "Medical : 0.186219739292365\n",
      "Catalogs : 0.12414649286157665\n"
     ]
    }
   ],
   "source": [
    "display_table(iOS_free, 11)"
   ]
  },
  {
   "cell_type": "markdown",
   "metadata": {},
   "source": [
    "A good bet could be to develop **Reference** apps. What are they? A [quick look on the Apple Store](https://apps.apple.com/gb/charts/iphone/reference-apps/6006) proves that they are related to language, translation and even religion. Another good option could be **Wheater** apps, since everyone checks it out at least briefly. **Health & Fitness** is another plausible choice since its an upwarding trend. We could say the same with **Book**, as reading habits are slowling turning into e-books, for its practicality and the option of reading many books for free. At last but not least, we can't discard the **Utilities** apps as they can bring us many users. \n",
    "\n",
    "While others like **Music**, or **Finance** doesn't seem a very good fit, since they are very specific and requires additional programming. An app like Spotify, would require to buy publication rights for the music, and **Finance** implies managing bank accounts, transfers and encrypted coding information that would require an additional amount of work for very little benefit. "
   ]
  },
  {
   "cell_type": "markdown",
   "metadata": {},
   "source": [
    "We'll try to do the same, but this time applied to the Google Play dataset. In this case we don't need to use a proxy column, since the fifth column on the Google dataset is the number of installs. \n",
    "\n",
    "Thanks to own function to display frequency tables we can see that the numbers are quite useful, but also quite vague, as they don't tell us exact quantities, but approximated.\n",
    "\n",
    "We don't know if an app with 1.000.000+ installs has 1.500.000, 1.600.000 and so on. Although we could have a vague idea about which apps possess the biggest amount of installations, we don't have that precise number.\n",
    "\n",
    "In order to not complicate our investigation further, we will keep it simple, as we will take for granted that 1.000+ installs repressents 1.000 installs, 5.000.000+ will repressent 5.000.000+ and so on. "
   ]
  },
  {
   "cell_type": "code",
   "execution_count": 25,
   "metadata": {},
   "outputs": [
    {
     "name": "stdout",
     "output_type": "stream",
     "text": [
      "1,000,000+ : 15.726534296028879\n",
      "100,000+ : 11.552346570397113\n",
      "10,000,000+ : 10.548285198555957\n",
      "10,000+ : 10.198555956678701\n",
      "1,000+ : 8.393501805054152\n",
      "100+ : 6.915613718411552\n",
      "5,000,000+ : 6.825361010830325\n",
      "500,000+ : 5.561823104693141\n",
      "50,000+ : 4.7721119133574\n",
      "5,000+ : 4.512635379061372\n",
      "10+ : 3.5424187725631766\n",
      "500+ : 3.2490974729241873\n",
      "50,000,000+ : 2.3014440433213\n",
      "100,000,000+ : 2.1322202166064983\n",
      "50+ : 1.917870036101083\n",
      "5+ : 0.78971119133574\n",
      "1+ : 0.5076714801444043\n",
      "500,000,000+ : 0.2707581227436823\n",
      "1,000,000,000+ : 0.22563176895306858\n",
      "0+ : 0.04512635379061372\n",
      "0 : 0.01128158844765343\n"
     ]
    }
   ],
   "source": [
    "display_table(android_free, 5)"
   ]
  },
  {
   "cell_type": "code",
   "execution_count": 26,
   "metadata": {},
   "outputs": [
    {
     "name": "stdout",
     "output_type": "stream",
     "text": [
      "ART_AND_DESIGN : 1986335.0877192982\n",
      "AUTO_AND_VEHICLES : 647317.8170731707\n",
      "BEAUTY : 513151.88679245283\n",
      "BOOKS_AND_REFERENCE : 8767811.894736841\n",
      "BUSINESS : 1712290.1474201474\n",
      "COMICS : 817657.2727272727\n",
      "COMMUNICATION : 38456119.167247385\n",
      "DATING : 854028.8303030303\n",
      "EDUCATION : 1833495.145631068\n",
      "ENTERTAINMENT : 11640705.88235294\n",
      "EVENTS : 253542.22222222222\n",
      "FINANCE : 1387692.475609756\n",
      "FOOD_AND_DRINK : 1924897.7363636363\n",
      "HEALTH_AND_FITNESS : 4188821.9853479853\n",
      "HOUSE_AND_HOME : 1331540.5616438356\n",
      "LIBRARIES_AND_DEMO : 638503.734939759\n",
      "LIFESTYLE : 1437816.2687861272\n",
      "GAME : 15588015.603248259\n",
      "FAMILY : 3695641.8198090694\n",
      "MEDICAL : 120550.61980830671\n",
      "SOCIAL : 23253652.127118643\n",
      "SHOPPING : 7036877.311557789\n",
      "PHOTOGRAPHY : 17840110.40229885\n",
      "SPORTS : 3638640.1428571427\n",
      "TRAVEL_AND_LOCAL : 13984077.710144928\n",
      "TOOLS : 10801391.298666667\n",
      "PERSONALIZATION : 5201482.6122448975\n",
      "PRODUCTIVITY : 16787331.344927534\n",
      "PARENTING : 542603.6206896552\n",
      "WEATHER : 5074486.197183099\n",
      "VIDEO_PLAYERS : 24727872.452830188\n",
      "NEWS_AND_MAGAZINES : 9549178.467741935\n",
      "MAPS_AND_NAVIGATION : 4056941.7741935486\n"
     ]
    }
   ],
   "source": [
    "categories_android = freq_table(android_free, 1)\n",
    "\n",
    "for category in categories_android:\n",
    "    total = 0\n",
    "    len_category = 0\n",
    "    for app in android_free:\n",
    "        category_app = app[1]\n",
    "        if category_app == category:\n",
    "            n_installs = app[5]\n",
    "            n_installs = n_installs.replace('+', '')\n",
    "            n_installs = n_installs.replace(',', '')\n",
    "            total += float(n_installs)\n",
    "            len_category += 1\n",
    "            \n",
    "    avg_number_installs = total / len_category\n",
    "    print(category, ':', avg_number_installs)"
   ]
  },
  {
   "cell_type": "markdown",
   "metadata": {},
   "source": [
    "We've done a similar calculation to the previous iOS dataset. In this occasion it was about to decipher how many installs we have per genre. And yes, we've displayed it as a frequency table. \n",
    "\n",
    "For that we've created a variable named **categories_android** where we will use the **freq_table** function with the column *'Category'* from android_free. \n",
    "\n",
    "Then looped the iteration *category* within our new variable **categories_android** and two new variables, *total* and *len_category* which we will leave empty. As we did with the iOS database, we will use again a nested loop for the apps in android_free, and created the variable *category_app* for the *'Category'* column. But here's when it turns tricky. We're working with strings, like 100,000+, and to perform computations we need to convert those to floats. But if we would that directly, due to the special symbols like ',' or '+', some kind of error would surface. For that we had to use the method **str.replace**, where we've subtituted those special symbols by nothing (using ''), going from 100,000+ to 100000, which is easier to convert to float and then, we added that number of installs to the total, and finally incremented len_category by 1. So that both variables aren't empty anymore\n",
    "\n",
    "Once again, as we did with iOS, we've divided *total* by *len_category* to obtain the average number of installs on each category and printed the *category* and the *average number of installs* in order to have that frequency table with all the data. "
   ]
  },
  {
   "cell_type": "markdown",
   "metadata": {},
   "source": [
    "As we can see, the *communication* apps are the most common with **38456119**, possibly because under this category titans such as Whatsapp or Skype can be found here, something that would probably raises the mean considerably. We could do a loop to see if that's right."
   ]
  },
  {
   "cell_type": "code",
   "execution_count": 27,
   "metadata": {
    "scrolled": true
   },
   "outputs": [
    {
     "name": "stdout",
     "output_type": "stream",
     "text": [
      "WhatsApp Messenger : 1,000,000,000+\n",
      "imo beta free calls and text : 100,000,000+\n",
      "Android Messages : 100,000,000+\n",
      "Google Duo - High Quality Video Calls : 500,000,000+\n",
      "Messenger – Text and Video Chat for Free : 1,000,000,000+\n",
      "imo free video calls and chat : 500,000,000+\n",
      "Skype - free IM & video calls : 1,000,000,000+\n",
      "Who : 100,000,000+\n",
      "GO SMS Pro - Messenger, Free Themes, Emoji : 100,000,000+\n",
      "LINE: Free Calls & Messages : 500,000,000+\n",
      "Google Chrome: Fast & Secure : 1,000,000,000+\n",
      "Firefox Browser fast & private : 100,000,000+\n",
      "UC Browser - Fast Download Private & Secure : 500,000,000+\n",
      "Gmail : 1,000,000,000+\n",
      "Hangouts : 1,000,000,000+\n",
      "Messenger Lite: Free Calls & Messages : 100,000,000+\n",
      "Kik : 100,000,000+\n",
      "KakaoTalk: Free Calls & Text : 100,000,000+\n",
      "Opera Mini - fast web browser : 100,000,000+\n",
      "Opera Browser: Fast and Secure : 100,000,000+\n",
      "Telegram : 100,000,000+\n",
      "Truecaller: Caller ID, SMS spam blocking & Dialer : 100,000,000+\n",
      "UC Browser Mini -Tiny Fast Private & Secure : 100,000,000+\n",
      "Viber Messenger : 500,000,000+\n",
      "WeChat : 100,000,000+\n",
      "Yahoo Mail – Stay Organized : 100,000,000+\n",
      "BBM - Free Calls & Messages : 100,000,000+\n"
     ]
    }
   ],
   "source": [
    "for app in android_free:\n",
    "    if app[1] == 'COMMUNICATION' and (app[5] == '1,000,000,000+' or app[5] == '500,000,000+' or app[5] == '100,000,000+'):\n",
    "        print(app[0], ':', app[5])\n",
    "        "
   ]
  },
  {
   "cell_type": "markdown",
   "metadata": {},
   "source": [
    "In fact, those apps raises the mean pretty much, as we guessed. If we eliminate those from the ecuation, the result would probably be quite different. "
   ]
  },
  {
   "cell_type": "code",
   "execution_count": 28,
   "metadata": {},
   "outputs": [
    {
     "data": {
      "text/plain": [
       "3603485.3884615386"
      ]
     },
     "execution_count": 28,
     "metadata": {},
     "output_type": "execute_result"
    }
   ],
   "source": [
    "less_than_100_m = []\n",
    "\n",
    "for app in android_free:\n",
    "    n_installs = app[5]\n",
    "    n_installs = n_installs.replace('+', '')\n",
    "    n_installs = n_installs.replace(',', '')\n",
    "    if (app[1] == 'COMMUNICATION') and (float(n_installs) < 100000000):\n",
    "        less_than_100_m.append(float(n_installs))\n",
    "        \n",
    "sum(less_than_100_m) / len(less_than_100_m)"
   ]
  },
  {
   "cell_type": "markdown",
   "metadata": {},
   "source": [
    "After eliminating the apps with more than **100.000.000**, the mean has dropped down from **38.456.119** to just **3.603.485**"
   ]
  },
  {
   "cell_type": "markdown",
   "metadata": {},
   "source": [
    "Going back to our original frequency table with the most popular categories, we could tell the same story from more popular categories: A few apps in the top that have numbers so immense that they distort the real numbers, like *Game* with **15.588.015**, or *Social* with **23.253.652**. Would it be intelligent to develop an app in those categories? The number of users are attractive enough to feel tempted by that possibility, but like we said in the iOS case, it possesses the great risk of going unnoticed on an already saturated market.\n",
    "\n",
    "For that, we're keeping the same strategy and going for categories not so populated and the giants aren't so strong. *Books and reference* with **8.767.811** or *Health and fitness* with **4.188.821** could be good alternatives."
   ]
  },
  {
   "cell_type": "code",
   "execution_count": 29,
   "metadata": {},
   "outputs": [
    {
     "name": "stdout",
     "output_type": "stream",
     "text": [
      "Pedometer - Step Counter Free & Calorie Burner : 1,000,000+\n",
      "Six Pack in 30 Days - Abs Workout : 10,000,000+\n",
      "Lose Weight in 30 Days : 10,000,000+\n",
      "Pedometer : 10,000,000+\n",
      "LG Health : 10,000,000+\n",
      "Step Counter - Pedometer Free & Calorie Counter : 10,000,000+\n",
      "Pedometer, Step Counter & Weight Loss Tracker App : 10,000,000+\n",
      "Sportractive GPS Running Cycling Distance Tracker : 1,000,000+\n",
      "30 Day Fitness Challenge - Workout at Home : 10,000,000+\n",
      "Home Workout for Men - Bodybuilding : 1,000,000+\n",
      "Fat Burning Workout - Home Weight lose : 100,000+\n",
      "Walking for Weight Loss - Walk Tracker : 100,000+\n",
      "Sleep Sounds : 1,000,000+\n",
      "Fitbit : 10,000,000+\n",
      "Abs Training-Burn belly fat : 100,000+\n",
      "Calorie Counter - EasyFit free : 1,000,000+\n",
      "Garmin Connect™ : 10,000,000+\n",
      "Bike Computer - GPS Cycling Tracker : 1,000,000+\n",
      "Six Packs for Man–Body Building with No Equipment : 100,000+\n",
      "Running Distance Tracker + : 1,000,000+\n",
      "The TK-App - everything under control : 100,000+\n",
      "Runkeeper - GPS Track Run Walk : 10,000,000+\n",
      "Walking: Pedometer diet : 1,000,000+\n",
      "Abs Workout - 30 Days Fitness App for Six Pack Abs : 100,000+\n",
      "8fit Workouts & Meal Planner : 10,000,000+\n",
      "Keep Trainer - Workout Trainer & Fitness Coach : 1,000,000+\n",
      "PumpUp — Fitness Community : 1,000,000+\n",
      "Home workouts - fat burning, abs, legs, arms,chest : 1,000,000+\n",
      "Running Weight Loss Walking Jogging Hiking FITAPP : 1,000,000+\n",
      "Strava Training: Track Running, Cycling & Swimming : 10,000,000+\n",
      "Workout Trainer: fitness coach : 10,000,000+\n",
      "StrongLifts 5x5 Workout Gym Log & Personal Trainer : 1,000,000+\n",
      "7 Minute Workout : 10,000,000+\n",
      "Freeletics: Personal Trainer & Fitness Workouts : 10,000,000+\n",
      "Fitbit Coach : 1,000,000+\n",
      "Map My Ride GPS Cycling Riding : 1,000,000+\n",
      "Daily Workouts - Exercise Fitness Routine Trainer : 10,000,000+\n",
      "Google Fit - Fitness Tracking : 10,000,000+\n",
      "Weight Loss Running by Verv : 1,000,000+\n",
      "Map My Fitness Workout Trainer : 1,000,000+\n",
      "Seven - 7 Minute Workout Training Challenge : 1,000,000+\n",
      "Relax Meditation: Sleep with Sleep Sounds : 1,000,000+\n",
      "Free Meditation - Take a Break : 100,000+\n",
      "Meditate OM : 1,000,000+\n",
      "Relax with Andrew Johnson Lite : 100,000+\n",
      "Meditation Music - Relax, Yoga : 1,000,000+\n",
      "21-Day Meditation Experience : 100,000+\n",
      "My Chakra Meditation 2 : 100,000+\n",
      "Simply Yoga - Fitness Trainer for Workouts & Poses : 1,000,000+\n",
      "Headspace: Meditation & Mindfulness : 10,000,000+\n",
      "Yoga Studio: Mind & Body : 100,000+\n",
      "Pregnancy & Baby Tracker : 1,000,000+\n",
      "My Cycles Period and Ovulation : 1,000,000+\n",
      "I’m Expecting - Pregnancy App : 1,000,000+\n",
      "The Bump Pregnancy Tracker : 1,000,000+\n",
      "Best Ovulation Tracker Fertility Calendar App Glow : 1,000,000+\n",
      "Eve Period Tracker - Love, Sex & Relationships App : 1,000,000+\n",
      "Fertility Friend Ovulation App : 1,000,000+\n",
      "Period Tracker : 10,000,000+\n",
      "OvuView: Ovulation and Fertility : 1,000,000+\n",
      "Period Tracker - Period Calendar Ovulation Tracker : 100,000,000+\n",
      "Period Tracker Clue: Period and Ovulation Tracker : 10,000,000+\n",
      "ViewRanger - Hike, Ride or Walk : 1,000,000+\n",
      "Runtastic Mountain Bike GPS Tracker : 1,000,000+\n",
      "AllTrails: Hiking, Running & Mountain Bike Trails : 1,000,000+\n",
      "Water Drink Reminder : 10,000,000+\n",
      "Couch to 5K by RunDouble : 1,000,000+\n",
      "Fooducate Healthy Weight Loss & Calorie Counter : 1,000,000+\n",
      "My Diet Coach - Weight Loss Motivation & Tracker : 10,000,000+\n",
      "Endomondo - Running & Walking : 10,000,000+\n",
      "Nike+ Run Club : 10,000,000+\n",
      "Lose It! - Calorie Counter : 10,000,000+\n",
      "Runtastic Running App & Mile Tracker : 10,000,000+\n",
      "Calorie Counter - MyNetDiary : 1,000,000+\n",
      "MyPlate Calorie Tracker : 1,000,000+\n",
      "My Diet Diary Calorie Counter : 1,000,000+\n",
      "Calorie Counter - Macros : 100,000+\n",
      "Weight Loss Tracker - RecStyle : 1,000,000+\n",
      "Lark - 24/7 Health Coach : 100,000+\n",
      "Calorie Counter & Diet Tracker : 1,000,000+\n",
      "Food Calorie Calculator : 100,000+\n",
      "Calorie Counter by FatSecret : 10,000,000+\n",
      "Eat Fit - Diet and Health Free : 100,000+\n",
      "Happify : 100,000+\n",
      "Binaural Beats Therapy : 1,000,000+\n",
      "Relaxing Sounds : 100,000+\n",
      "Insight Timer - Free Meditation App : 1,000,000+\n",
      "Prana Breath: Calm & Meditate : 1,000,000+\n",
      "White Noise Lite : 1,000,000+\n",
      "Stop, Breathe & Think: Meditation & Mindfulness : 1,000,000+\n",
      "Oral-B App : 1,000,000+\n",
      "HPlus : 100,000+\n",
      "Ultimate Ab & Core Workouts : 1,000,000+\n",
      "Abs Workout - Burn Belly Fat with No Equipment : 10,000,000+\n",
      "6 Pack Promise - Ultimate Abs : 1,000,000+\n",
      "Abs, Core & Back Workout Challenge : 100,000+\n",
      "AB Mobile App : 100,000+\n",
      "Daily Ab Workout - Core & Abs Fitness Exercises : 10,000,000+\n",
      "Abs workout 7 minutes : 1,000,000+\n",
      "30 Day Ab Challenge FREE : 1,000,000+\n",
      "ABS Workout - Belly workout, 30 days AB : 100,000+\n",
      "7 minute abs workout - Daily Ab Workout : 100,000+\n",
      "Ab Workouts : 1,000,000+\n",
      "Abs workout - 21 Day Fitness Challenge : 1,000,000+\n",
      "Ladies' Ab Workout FREE : 1,000,000+\n",
      "Sleep as Android Gear Addon : 100,000+\n",
      "Cures A-Z : 100,000+\n",
      "Women\"s Health Tips(Breast,Face,Body,weight lose) : 1,000,000+\n",
      "Blood Glucose Tracker : 100,000+\n",
      "Bacteria Vaginosis : 1,000,000+\n",
      "Pharmacy CI - Pharmacies de garde Côte d'Ivoire : 100,000+\n",
      "Pharmacie de Garde CI et Prix : 100,000+\n",
      "Nike Training Club - Workouts & Fitness Plans : 10,000,000+\n",
      "Home Workout - No Equipment : 10,000,000+\n",
      "Burn Your Fat With Me! FG : 1,000,000+\n",
      "Florida Blue : 100,000+\n"
     ]
    }
   ],
   "source": [
    "for app in android_free:\n",
    "    if app[1] == 'HEALTH_AND_FITNESS' and (app[5] == '100,000,000+' or app[5] == '10,000,000+' or app[5] == '1,000,000+' or app[5] == '100,000+'):\n",
    "        print(app[0], ':', app[5])"
   ]
  },
  {
   "cell_type": "markdown",
   "metadata": {},
   "source": [
    "It would be worth to giving a fight on this field. While there are some huge apps with millions of users, they are not as big as we could find in other niche categories, while there's many apps with the same number of users with not-so-intimidating numbers. We would need to implement some novelties, which would require more specific research on the most popular apps, but at least we know that it isn't impossible to build a decent quantity of users. "
   ]
  },
  {
   "cell_type": "code",
   "execution_count": 30,
   "metadata": {},
   "outputs": [
    {
     "name": "stdout",
     "output_type": "stream",
     "text": [
      "Complete Spanish Movies : 1,000,000+\n",
      "Pluto TV - It’s Free TV : 1,000,000+\n",
      "Mobile TV : 10,000,000+\n",
      "Motorola Spotlight Player™ : 10,000,000+\n",
      "Hotstar : 100,000,000+\n",
      "The green alien dance : 1,000,000+\n",
      "StarTimes - Live International Champions Cup : 1,000,000+\n",
      "Cinematic Cinematic : 1,000,000+\n",
      "MEGOGO - Cinema and TV : 10,000,000+\n",
      "Talking Angela : 100,000,000+\n",
      "ivi - movies and TV shows in HD : 10,000,000+\n",
      "Radio Javan : 1,000,000+\n",
      "🔥 Football Wallpapers 4K | Full HD Backgrounds 😍 : 1,000,000+\n",
      "Movies by Flixster, with Rotten Tomatoes : 10,000,000+\n",
      "Low Poly – Puzzle art game : 1,000,000+\n",
      "BBC Media Player : 10,000,000+\n",
      "Adult Glitter Color by Number Book - Sandbox Pages : 1,000,000+\n",
      "IMDb Movies & TV : 100,000,000+\n",
      "Ziggo GO : 1,000,000+\n",
      "Talking Ben the Dog : 100,000,000+\n",
      "Trailer Addict Movie Trailers : 100,000+\n",
      "Cinemark Theatres : 1,000,000+\n",
      "Regal Cinemas : 1,000,000+\n",
      "Fandango Movies - Times + Tickets : 10,000,000+\n",
      "Marcus Theatres : 100,000+\n",
      "Harkins Theatres : 100,000+\n",
      "AMC Theatres : 1,000,000+\n",
      "Cooking Channel : 100,000+\n",
      "Animal Planet GO : 100,000+\n",
      "VRV: Anime, game videos & more : 1,000,000+\n",
      "DramaFever: Stream Asian Drama Shows & Movies : 1,000,000+\n",
      "Investigation Discovery GO : 1,000,000+\n",
      "Crackle - Free TV & Movies : 10,000,000+\n",
      "CBS - Full Episodes & Live TV : 10,000,000+\n",
      "STARZ : 10,000,000+\n",
      "HISTORY: Watch TV Show Full Episodes & Specials : 1,000,000+\n",
      "VH1 : 1,000,000+\n",
      "BET NOW - Watch Shows : 1,000,000+\n",
      "Univision NOW - Live TV and On Demand : 1,000,000+\n",
      "SHOWTIME : 1,000,000+\n",
      "SeriesGuide – Show & Movie Manager : 1,000,000+\n",
      "Comedy Central : 1,000,000+\n",
      "Tubi TV - Free Movies & TV : 10,000,000+\n",
      "Crunchyroll - Everything Anime : 10,000,000+\n",
      "WWE : 10,000,000+\n",
      "MTV : 1,000,000+\n",
      "Lifetime - Watch Full Episodes & Original Movies : 1,000,000+\n",
      "Showtime Anytime : 1,000,000+\n",
      "FOX : 10,000,000+\n",
      "Telemundo Now : 1,000,000+\n",
      "Netflix : 100,000,000+\n",
      "Vudu Movies & TV : 10,000,000+\n",
      "Yidio: TV Show & Movie Guide : 1,000,000+\n",
      "Viki: Asian TV Dramas & Movies : 10,000,000+\n",
      "Redbox : 10,000,000+\n",
      "Tribeca Shortlist - Handpicked Movies : 100,000+\n",
      "Nick Jr. - Shows & Games : 1,000,000+\n",
      "Kidjo TV Kids Have Fun & Learn : 100,000+\n",
      "Laugh Out Loud by Kevin Hart : 100,000+\n",
      "Hamilton — The Official App : 100,000+\n",
      "Funny Pics : 1,000,000+\n",
      "Funny Quotes Free : 1,000,000+\n",
      "LOL Pics (Funny Pictures) : 1,000,000+\n",
      "Meme Creator : 1,000,000+\n",
      "Imgur: Find funny GIFs, memes & watch viral videos : 10,000,000+\n",
      "SketchBook - draw and paint : 10,000,000+\n",
      "Colorfy: Coloring Book for Adults - Free : 10,000,000+\n"
     ]
    }
   ],
   "source": [
    "for app in android_free:\n",
    "    if app[1] == 'ENTERTAINMENT' and (app[5] == '100,000,000+' or app[5] == '10,000,000+' or app[5] == '1,000,000+' or app[5] == '100,000+'):\n",
    "        print(app[0], ':', app[5])"
   ]
  },
  {
   "cell_type": "markdown",
   "metadata": {},
   "source": [
    "Others, like Entertainment could be a good option, but we would need to gather audiovisual rights if we want to show movies, leaving us with just pictures. Which isn't worthy. "
   ]
  },
  {
   "cell_type": "code",
   "execution_count": 31,
   "metadata": {
    "scrolled": true
   },
   "outputs": [
    {
     "name": "stdout",
     "output_type": "stream",
     "text": [
      "Download free book with green book : 100,000+\n",
      "Wikipedia : 10,000,000+\n",
      "Cool Reader : 10,000,000+\n",
      "Free Panda Radio Music : 100,000+\n",
      "Book store : 1,000,000+\n",
      "FBReader: Favorite Book Reader : 10,000,000+\n",
      "Free Books - Spirit Fanfiction and Stories : 1,000,000+\n",
      "Google Play Books : 1,000,000,000+\n",
      "Offline English Dictionary : 100,000+\n",
      "FamilySearch Tree : 1,000,000+\n",
      "Cloud of Books : 1,000,000+\n",
      "ReadEra – free ebook reader : 1,000,000+\n",
      "Litnet - E-books : 100,000+\n",
      "eBoox: book reader fb2 epub zip : 1,000,000+\n",
      "All Maths Formulas : 1,000,000+\n",
      "HTC Help : 10,000,000+\n",
      "English translation from Bengali : 100,000+\n",
      "Pdf Book Download - Read Pdf Book : 100,000+\n",
      "Free Book Reader : 100,000+\n",
      "Moon+ Reader : 10,000,000+\n",
      "English-Myanmar Dictionary : 1,000,000+\n",
      "Golden Dictionary (EN-AR) : 1,000,000+\n",
      "All Language Translator Free : 1,000,000+\n",
      "URBANO V 02 instruction manual : 100,000+\n",
      "Aab e Hayat Full Novel : 100,000+\n",
      "Aldiko Book Reader : 10,000,000+\n",
      "V Made : 100,000+\n",
      "Guide (for X-MEN) : 100,000+\n",
      "Al-Quran (Free) : 10,000,000+\n",
      "Al Quran Indonesia : 10,000,000+\n",
      "Al'Quran Bahasa Indonesia : 10,000,000+\n",
      "Al Quran Al karim : 1,000,000+\n",
      "Koran Read &MP3 30 Juz Offline : 1,000,000+\n",
      "Hafizi Quran 15 lines per page : 1,000,000+\n",
      "Quran for Android : 10,000,000+\n",
      "Surah Al-Waqiah : 100,000+\n",
      "Hisnul Al Muslim - Hisn Invocations & Adhkaar : 100,000+\n",
      "Satellite AR : 1,000,000+\n",
      "Oxford A-Z of English Usage : 1,000,000+\n",
      "Dictionary.com: Find Definitions for English Words : 10,000,000+\n",
      "English Dictionary - Offline : 10,000,000+\n",
      "NOOK: Read eBooks & Magazines : 10,000,000+\n",
      "Brilliant Quotes: Life, Love, Family & Motivation : 1,000,000+\n",
      "cloudLibrary : 100,000+\n",
      "Sabbath School : 100,000+\n",
      "Stats Royale for Clash Royale : 1,000,000+\n",
      "How to Write CV : 100,000+\n",
      "Dictionary : 10,000,000+\n",
      "wikiHow: how to do anything : 1,000,000+\n",
      "EGW Writings 2 : 100,000+\n",
      "EGW Writings : 1,000,000+\n",
      "Bible with EGW Comments : 100,000+\n",
      "My Little Pony AR Guide : 1,000,000+\n",
      "Spanish English Translator : 10,000,000+\n",
      "Dictionary - Merriam-Webster : 10,000,000+\n",
      "JW Library : 10,000,000+\n",
      "Oxford Dictionary of English : Free : 10,000,000+\n",
      "English Hindi Dictionary : 10,000,000+\n",
      "Hymnes et Louanges : 100,000+\n",
      "BakaReader EX : 100,000+\n"
     ]
    }
   ],
   "source": [
    "for app in android_free:\n",
    "    if app[1] == 'BOOKS_AND_REFERENCE' and (app[5] == '1,000,000,000+' or app[5] == '10,000,000+' or app[5] == '1,000,000+' or app[5] == '100,000+'):\n",
    "        print(app[0], ':', app[5])"
   ]
  },
  {
   "cell_type": "markdown",
   "metadata": {},
   "source": [
    "Following the example of iOS and \"Reference\", we can take the road of developing literacy related apps. While the field is dominated by translators and dictionaries (Spanish English Translator, English Hindi Dictionary, Dictionary...) We could think about developing an additional feature, like audiobooks, a marker for the most important part of each book, etc. That could attract potential new users. "
   ]
  },
  {
   "cell_type": "markdown",
   "metadata": {},
   "source": [
    "Our final thoughts: We should invest, on both Android and iOS, on categories where there's a decent amount of users, not so niche, but avoiding those who has gigantic apps, such as Disney+ or Whatsapp. Like we said, **books** and **health** could be two fields where we could stand out. "
   ]
  }
 ],
 "metadata": {
  "kernelspec": {
   "display_name": "Python 3 (ipykernel)",
   "language": "python",
   "name": "python3"
  },
  "language_info": {
   "codemirror_mode": {
    "name": "ipython",
    "version": 3
   },
   "file_extension": ".py",
   "mimetype": "text/x-python",
   "name": "python",
   "nbconvert_exporter": "python",
   "pygments_lexer": "ipython3",
   "version": "3.12.4"
  }
 },
 "nbformat": 4,
 "nbformat_minor": 4
}
